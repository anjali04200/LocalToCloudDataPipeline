{
 "cells": [
  {
   "cell_type": "code",
   "execution_count": 9,
   "id": "17eb088e-45a5-4ac6-8173-383e0928d65d",
   "metadata": {},
   "outputs": [],
   "source": [
    "#import the neccessary libraries\n",
    "import pandas as pd\n",
    "import matplotlib.pyplot as plt\n",
    "import seaborn as sns"
   ]
  },
  {
   "cell_type": "code",
   "execution_count": 10,
   "id": "f7e5fdc6-24dc-4f85-8784-c8eaf049fba3",
   "metadata": {},
   "outputs": [],
   "source": [
    "#Load the dataset into dataframe\n",
    "df=pd.read_csv('Employee.csv')"
   ]
  },
  {
   "cell_type": "code",
   "execution_count": 11,
   "id": "00aa742a-7574-4170-8d86-f4985c504923",
   "metadata": {},
   "outputs": [
    {
     "name": "stdout",
     "output_type": "stream",
     "text": [
      "Having no. of rows and columns in dataset  (4653, 9)\n"
     ]
    }
   ],
   "source": [
    "#Inspect the data\n",
    "print('Having no. of rows and columns in dataset ',df.shape)"
   ]
  },
  {
   "cell_type": "code",
   "execution_count": 12,
   "id": "e7767121-206a-4a50-aa80-74d68163a33a",
   "metadata": {},
   "outputs": [
    {
     "name": "stdout",
     "output_type": "stream",
     "text": [
      "<class 'pandas.core.frame.DataFrame'>\n",
      "RangeIndex: 4653 entries, 0 to 4652\n",
      "Data columns (total 9 columns):\n",
      " #   Column                     Non-Null Count  Dtype \n",
      "---  ------                     --------------  ----- \n",
      " 0   Education                  4653 non-null   object\n",
      " 1   JoiningYear                4653 non-null   int64 \n",
      " 2   City                       4653 non-null   object\n",
      " 3   PaymentTier                4653 non-null   int64 \n",
      " 4   Age                        4653 non-null   int64 \n",
      " 5   Gender                     4653 non-null   object\n",
      " 6   EverBenched                4653 non-null   object\n",
      " 7   ExperienceInCurrentDomain  4653 non-null   int64 \n",
      " 8   LeaveOrNot                 4653 non-null   int64 \n",
      "dtypes: int64(5), object(4)\n",
      "memory usage: 327.3+ KB\n"
     ]
    }
   ],
   "source": [
    "#Summary of the dataframe\n",
    "df.info() "
   ]
  },
  {
   "cell_type": "code",
   "execution_count": 13,
   "id": "f7bfb43a-6c18-4f39-82c9-65a4f39a806d",
   "metadata": {},
   "outputs": [
    {
     "data": {
      "text/html": [
       "<div>\n",
       "<style scoped>\n",
       "    .dataframe tbody tr th:only-of-type {\n",
       "        vertical-align: middle;\n",
       "    }\n",
       "\n",
       "    .dataframe tbody tr th {\n",
       "        vertical-align: top;\n",
       "    }\n",
       "\n",
       "    .dataframe thead th {\n",
       "        text-align: right;\n",
       "    }\n",
       "</style>\n",
       "<table border=\"1\" class=\"dataframe\">\n",
       "  <thead>\n",
       "    <tr style=\"text-align: right;\">\n",
       "      <th></th>\n",
       "      <th>JoiningYear</th>\n",
       "      <th>PaymentTier</th>\n",
       "      <th>Age</th>\n",
       "      <th>ExperienceInCurrentDomain</th>\n",
       "      <th>LeaveOrNot</th>\n",
       "    </tr>\n",
       "  </thead>\n",
       "  <tbody>\n",
       "    <tr>\n",
       "      <th>count</th>\n",
       "      <td>4653.000000</td>\n",
       "      <td>4653.000000</td>\n",
       "      <td>4653.000000</td>\n",
       "      <td>4653.000000</td>\n",
       "      <td>4653.000000</td>\n",
       "    </tr>\n",
       "    <tr>\n",
       "      <th>mean</th>\n",
       "      <td>2015.062970</td>\n",
       "      <td>2.698259</td>\n",
       "      <td>29.393295</td>\n",
       "      <td>2.905652</td>\n",
       "      <td>0.343864</td>\n",
       "    </tr>\n",
       "    <tr>\n",
       "      <th>std</th>\n",
       "      <td>1.863377</td>\n",
       "      <td>0.561435</td>\n",
       "      <td>4.826087</td>\n",
       "      <td>1.558240</td>\n",
       "      <td>0.475047</td>\n",
       "    </tr>\n",
       "    <tr>\n",
       "      <th>min</th>\n",
       "      <td>2012.000000</td>\n",
       "      <td>1.000000</td>\n",
       "      <td>22.000000</td>\n",
       "      <td>0.000000</td>\n",
       "      <td>0.000000</td>\n",
       "    </tr>\n",
       "    <tr>\n",
       "      <th>25%</th>\n",
       "      <td>2013.000000</td>\n",
       "      <td>3.000000</td>\n",
       "      <td>26.000000</td>\n",
       "      <td>2.000000</td>\n",
       "      <td>0.000000</td>\n",
       "    </tr>\n",
       "    <tr>\n",
       "      <th>50%</th>\n",
       "      <td>2015.000000</td>\n",
       "      <td>3.000000</td>\n",
       "      <td>28.000000</td>\n",
       "      <td>3.000000</td>\n",
       "      <td>0.000000</td>\n",
       "    </tr>\n",
       "    <tr>\n",
       "      <th>75%</th>\n",
       "      <td>2017.000000</td>\n",
       "      <td>3.000000</td>\n",
       "      <td>32.000000</td>\n",
       "      <td>4.000000</td>\n",
       "      <td>1.000000</td>\n",
       "    </tr>\n",
       "    <tr>\n",
       "      <th>max</th>\n",
       "      <td>2018.000000</td>\n",
       "      <td>3.000000</td>\n",
       "      <td>41.000000</td>\n",
       "      <td>7.000000</td>\n",
       "      <td>1.000000</td>\n",
       "    </tr>\n",
       "  </tbody>\n",
       "</table>\n",
       "</div>"
      ],
      "text/plain": [
       "       JoiningYear  PaymentTier          Age  ExperienceInCurrentDomain  \\\n",
       "count  4653.000000  4653.000000  4653.000000                4653.000000   \n",
       "mean   2015.062970     2.698259    29.393295                   2.905652   \n",
       "std       1.863377     0.561435     4.826087                   1.558240   \n",
       "min    2012.000000     1.000000    22.000000                   0.000000   \n",
       "25%    2013.000000     3.000000    26.000000                   2.000000   \n",
       "50%    2015.000000     3.000000    28.000000                   3.000000   \n",
       "75%    2017.000000     3.000000    32.000000                   4.000000   \n",
       "max    2018.000000     3.000000    41.000000                   7.000000   \n",
       "\n",
       "        LeaveOrNot  \n",
       "count  4653.000000  \n",
       "mean      0.343864  \n",
       "std       0.475047  \n",
       "min       0.000000  \n",
       "25%       0.000000  \n",
       "50%       0.000000  \n",
       "75%       1.000000  \n",
       "max       1.000000  "
      ]
     },
     "execution_count": 13,
     "metadata": {},
     "output_type": "execute_result"
    }
   ],
   "source": [
    "#Decriptive statistics\n",
    "df.describe()"
   ]
  },
  {
   "cell_type": "code",
   "execution_count": 14,
   "id": "d6e409e6-aa2e-466e-b415-8f6c09d29d5f",
   "metadata": {},
   "outputs": [
    {
     "name": "stdout",
     "output_type": "stream",
     "text": [
      "      Education  JoiningYear       City  PaymentTier  Age  Gender EverBenched  \\\n",
      "0     Bachelors         2017  Bangalore            3   34    Male          No   \n",
      "1     Bachelors         2013       Pune            1   28  Female          No   \n",
      "2     Bachelors         2014  New Delhi            3   38  Female          No   \n",
      "3       Masters         2016  Bangalore            3   27    Male          No   \n",
      "4       Masters         2017       Pune            3   24    Male         Yes   \n",
      "...         ...          ...        ...          ...  ...     ...         ...   \n",
      "4648  Bachelors         2013  Bangalore            3   26  Female          No   \n",
      "4649    Masters         2013       Pune            2   37    Male          No   \n",
      "4650    Masters         2018  New Delhi            3   27    Male          No   \n",
      "4651  Bachelors         2012  Bangalore            3   30    Male         Yes   \n",
      "4652  Bachelors         2015  Bangalore            3   33    Male         Yes   \n",
      "\n",
      "      ExperienceInCurrentDomain  LeaveOrNot  \n",
      "0                             0           0  \n",
      "1                             3           1  \n",
      "2                             2           0  \n",
      "3                             5           1  \n",
      "4                             2           1  \n",
      "...                         ...         ...  \n",
      "4648                          4           0  \n",
      "4649                          2           1  \n",
      "4650                          5           1  \n",
      "4651                          2           0  \n",
      "4652                          4           0  \n",
      "\n",
      "[4653 rows x 9 columns]\n"
     ]
    }
   ],
   "source": [
    "print(df)"
   ]
  },
  {
   "cell_type": "code",
   "execution_count": 15,
   "id": "45aadbea-4bfd-40f9-968e-a3cc6315c093",
   "metadata": {},
   "outputs": [],
   "source": [
    "        # Data Cleaning"
   ]
  },
  {
   "cell_type": "code",
   "execution_count": 16,
   "id": "b2c9d1b0-3f04-4d1f-a189-18db3d32983f",
   "metadata": {},
   "outputs": [],
   "source": [
    "#drop column\n",
    "p = df.drop('PaymentTier', axis=1)"
   ]
  },
  {
   "cell_type": "code",
   "execution_count": 17,
   "id": "bd48fe8c-0a6a-40fa-a64e-6b93f3a9e583",
   "metadata": {},
   "outputs": [
    {
     "data": {
      "text/plain": [
       "Education                    0\n",
       "JoiningYear                  0\n",
       "City                         0\n",
       "Age                          0\n",
       "Gender                       0\n",
       "EverBenched                  0\n",
       "ExperienceInCurrentDomain    0\n",
       "LeaveOrNot                   0\n",
       "dtype: int64"
      ]
     },
     "execution_count": 17,
     "metadata": {},
     "output_type": "execute_result"
    }
   ],
   "source": [
    "#finding missing values\n",
    "p.isnull().sum()"
   ]
  },
  {
   "cell_type": "code",
   "execution_count": 18,
   "id": "4963a92a-6fe9-4d8b-846b-1d51f6207173",
   "metadata": {},
   "outputs": [],
   "source": [
    "#Renamimg column that is too-long  \n",
    "p=p.rename(columns={'ExperienceInCurrentDomain':'Experience'})"
   ]
  },
  {
   "cell_type": "code",
   "execution_count": 19,
   "id": "f5392dd0-26ae-43b1-9936-8e7aa99a6231",
   "metadata": {},
   "outputs": [],
   "source": [
    "# Sort the Data by column joining year\n",
    "p=p.sort_values(by='JoiningYear')"
   ]
  },
  {
   "cell_type": "code",
   "execution_count": 20,
   "id": "879d97d4-303a-4860-9d80-d69305c86b97",
   "metadata": {},
   "outputs": [
    {
     "name": "stdout",
     "output_type": "stream",
     "text": [
      "      Education  JoiningYear       City  Age  Gender EverBenched  Experience  \\\n",
      "2997  Bachelors         2012       Pune   31    Male          No           4   \n",
      "3090  Bachelors         2012  Bangalore   35  Female          No           1   \n",
      "3095  Bachelors         2012       Pune   40    Male          No           2   \n",
      "3096  Bachelors         2012  Bangalore   36    Male          No           3   \n",
      "1485  Bachelors         2012  Bangalore   24    Male          No           2   \n",
      "...         ...          ...        ...  ...     ...         ...         ...   \n",
      "3880  Bachelors         2018  Bangalore   38    Male          No           1   \n",
      "2795  Bachelors         2018  Bangalore   27    Male          No           5   \n",
      "2796        PHD         2018  New Delhi   30  Female          No           4   \n",
      "3293  Bachelors         2018  Bangalore   35    Male          No           1   \n",
      "2265  Bachelors         2018  Bangalore   29  Female         Yes           2   \n",
      "\n",
      "      LeaveOrNot  \n",
      "2997           0  \n",
      "3090           0  \n",
      "3095           0  \n",
      "3096           0  \n",
      "1485           0  \n",
      "...          ...  \n",
      "3880           1  \n",
      "2795           1  \n",
      "2796           1  \n",
      "3293           1  \n",
      "2265           1  \n",
      "\n",
      "[4653 rows x 8 columns]\n"
     ]
    }
   ],
   "source": [
    "print(p)"
   ]
  },
  {
   "cell_type": "code",
   "execution_count": 21,
   "id": "7e007835-5dac-4739-bc38-dac448d67f19",
   "metadata": {},
   "outputs": [],
   "source": [
    "        # Data transformation"
   ]
  },
  {
   "cell_type": "code",
   "execution_count": 22,
   "id": "d0337e4d-db06-44ff-8e7b-4f95903d5fce",
   "metadata": {},
   "outputs": [],
   "source": [
    "#label Encoder use for converting categorical column to numerical\n",
    "from sklearn.preprocessing import LabelEncoder\n",
    "l=LabelEncoder()\n",
    "p['EverBenched']=l.fit_transform(p['EverBenched'])      # NO is considered as 0 and Yes as 1 by fit_transform function(that learns the unique values and convert labels into numerical form)"
   ]
  },
  {
   "cell_type": "code",
   "execution_count": 23,
   "id": "27df8c2c-b64e-4212-8e98-eb1943389273",
   "metadata": {},
   "outputs": [
    {
     "name": "stdout",
     "output_type": "stream",
     "text": [
      "      Education  JoiningYear       City  Age  Gender  EverBenched  Experience  \\\n",
      "2997  Bachelors         2012       Pune   31    Male            0           4   \n",
      "3090  Bachelors         2012  Bangalore   35  Female            0           1   \n",
      "3095  Bachelors         2012       Pune   40    Male            0           2   \n",
      "3096  Bachelors         2012  Bangalore   36    Male            0           3   \n",
      "1485  Bachelors         2012  Bangalore   24    Male            0           2   \n",
      "...         ...          ...        ...  ...     ...          ...         ...   \n",
      "3880  Bachelors         2018  Bangalore   38    Male            0           1   \n",
      "2795  Bachelors         2018  Bangalore   27    Male            0           5   \n",
      "2796        PHD         2018  New Delhi   30  Female            0           4   \n",
      "3293  Bachelors         2018  Bangalore   35    Male            0           1   \n",
      "2265  Bachelors         2018  Bangalore   29  Female            1           2   \n",
      "\n",
      "      LeaveOrNot  YearsSinceJoining Post_Graduated  \n",
      "2997           0                 12              N  \n",
      "3090           0                 12              N  \n",
      "3095           0                 12              N  \n",
      "3096           0                 12              N  \n",
      "1485           0                 12              N  \n",
      "...          ...                ...            ...  \n",
      "3880           1                  6              N  \n",
      "2795           1                  6              N  \n",
      "2796           1                  6              N  \n",
      "3293           1                  6              N  \n",
      "2265           1                  6              N  \n",
      "\n",
      "[4653 rows x 10 columns]\n"
     ]
    }
   ],
   "source": [
    "#Creating new column that shows working year of employee  \n",
    "p['YearsSinceJoining'] = 2024 - p['JoiningYear'].astype(int) \n",
    "\n",
    "#Creating another column that shows the qualification of emp\n",
    "import numpy as np\n",
    "p['Post_Graduated']=np.where(p['Education']=='Masters','Y','N')\n",
    "print(p)"
   ]
  },
  {
   "cell_type": "code",
   "execution_count": 24,
   "id": "4272be63-d5d4-4d88-898e-5961d1993d6d",
   "metadata": {},
   "outputs": [
    {
     "name": "stdout",
     "output_type": "stream",
     "text": [
      "      Education  JoiningYear  City  Age  Gender  EverBenched  Experience  \\\n",
      "3985  Bachelors         2015  Pune   34    Male            1           7   \n",
      "3989  Bachelors         2015  Pune   41  Female            0           7   \n",
      "\n",
      "      LeaveOrNot  YearsSinceJoining Post_Graduated  \n",
      "3985           0                  9              N  \n",
      "3989           0                  9              N  \n"
     ]
    }
   ],
   "source": [
    "#Filtering data \n",
    "pp=p[(p['JoiningYear']==2015) & (p['City']=='Pune')& (p['Experience']>5)]\n",
    "print(pp)"
   ]
  },
  {
   "cell_type": "code",
   "execution_count": 25,
   "id": "72642752-d6c5-4889-b9fe-b4f4288d6e36",
   "metadata": {},
   "outputs": [],
   "source": [
    "      # Save Cleaned & Transformed Data to New CSV"
   ]
  },
  {
   "cell_type": "code",
   "execution_count": 41,
   "id": "66b32166-5019-40f0-b70e-8640eb75251f",
   "metadata": {},
   "outputs": [
    {
     "name": "stdout",
     "output_type": "stream",
     "text": [
      "      Unnamed: 0  Education  JoiningYear       City  Age  Gender  EverBenched  \\\n",
      "0           2997  Bachelors         2012       Pune   31    Male            0   \n",
      "1           3090  Bachelors         2012  Bangalore   35  Female            0   \n",
      "2           3095  Bachelors         2012       Pune   40    Male            0   \n",
      "3           3096  Bachelors         2012  Bangalore   36    Male            0   \n",
      "4           1485  Bachelors         2012  Bangalore   24    Male            0   \n",
      "...          ...        ...          ...        ...  ...     ...          ...   \n",
      "4648        3880  Bachelors         2018  Bangalore   38    Male            0   \n",
      "4649        2795  Bachelors         2018  Bangalore   27    Male            0   \n",
      "4650        2796        PHD         2018  New Delhi   30  Female            0   \n",
      "4651        3293  Bachelors         2018  Bangalore   35    Male            0   \n",
      "4652        2265  Bachelors         2018  Bangalore   29  Female            1   \n",
      "\n",
      "      Experience  LeaveOrNot  YearsSinceJoining Post_Graduated  \n",
      "0              4           0                 12              N  \n",
      "1              1           0                 12              N  \n",
      "2              2           0                 12              N  \n",
      "3              3           0                 12              N  \n",
      "4              2           0                 12              N  \n",
      "...          ...         ...                ...            ...  \n",
      "4648           1           1                  6              N  \n",
      "4649           5           1                  6              N  \n",
      "4650           4           1                  6              N  \n",
      "4651           1           1                  6              N  \n",
      "4652           2           1                  6              N  \n",
      "\n",
      "[4653 rows x 11 columns]\n"
     ]
    }
   ],
   "source": [
    "p.to_csv('emp_1.csv')\n",
    "x=pd.read_csv('emp_1.csv')\n",
    "print(x)"
   ]
  },
  {
   "cell_type": "code",
   "execution_count": 40,
   "id": "becd72cc-3bb7-463e-ada3-dc859da0eda1",
   "metadata": {},
   "outputs": [],
   "source": [
    "         #Data Visualization"
   ]
  },
  {
   "cell_type": "code",
   "execution_count": 42,
   "id": "505f9064-bdb9-4c94-ab2e-e035f9805b4a",
   "metadata": {},
   "outputs": [
    {
     "name": "stderr",
     "output_type": "stream",
     "text": [
      "C:\\Users\\Admin\\AppData\\Local\\Temp\\ipykernel_7620\\569447228.py:3: FutureWarning: \n",
      "\n",
      "Passing `palette` without assigning `hue` is deprecated and will be removed in v0.14.0. Assign the `x` variable to `hue` and set `legend=False` for the same effect.\n",
      "\n",
      "  sns.countplot(x='Education', data=x, palette='viridis')\n"
     ]
    },
    {
     "data": {
      "image/png": "[encoded data removed]",
      "text/plain": [
       "<Figure size 600x400 with 1 Axes>"
      ]
     },
     "metadata": {},
     "output_type": "display_data"
    },
    {
     "name": "stderr",
     "output_type": "stream",
     "text": [
      "C:\\Users\\Admin\\AppData\\Local\\Temp\\ipykernel_7620\\569447228.py:11: FutureWarning: \n",
      "\n",
      "Passing `palette` without assigning `hue` is deprecated and will be removed in v0.14.0. Assign the `x` variable to `hue` and set `legend=False` for the same effect.\n",
      "\n",
      "  sns.countplot(x='EverBenched', data=x, palette='Set2')\n"
     ]
    },
    {
     "data": {
      "image/png": "[encoded data removed]",
      "text/plain": [
       "<Figure size 600x400 with 1 Axes>"
      ]
     },
     "metadata": {},
     "output_type": "display_data"
    },
    {
     "name": "stderr",
     "output_type": "stream",
     "text": [
      "C:\\Users\\Admin\\AppData\\Local\\Temp\\ipykernel_7620\\569447228.py:19: FutureWarning: \n",
      "\n",
      "Passing `palette` without assigning `hue` is deprecated and will be removed in v0.14.0. Assign the `x` variable to `hue` and set `legend=False` for the same effect.\n",
      "\n",
      "  sns.countplot(x='LeaveOrNot', data=x, palette='muted')\n"
     ]
    },
    {
     "data": {
      "image/png": "[encoded data removed]",
      "text/plain": [
       "<Figure size 600x400 with 1 Axes>"
      ]
     },
     "metadata": {},
     "output_type": "display_data"
    }
   ],
   "source": [
    "# Count plot for Education\n",
    "plt.figure(figsize=(6, 4))\n",
    "sns.countplot(x='Education', data=x, palette='viridis')\n",
    "plt.title('Count of Employees By Education Level')\n",
    "plt.xlabel('Education')\n",
    "plt.ylabel('Count')\n",
    "plt.show()\n",
    "\n",
    "# Count plot for EverBenched\n",
    "plt.figure(figsize=(6, 4))\n",
    "sns.countplot(x='EverBenched', data=x, palette='Set2')\n",
    "plt.title('Employees Ever Benched')\n",
    "plt.xlabel('Ever Benched')\n",
    "plt.ylabel('Count')\n",
    "plt.show()\n",
    "\n",
    "# Count plot for LeaveOrNot\n",
    "plt.figure(figsize=(6, 4))\n",
    "sns.countplot(x='LeaveOrNot', data=x, palette='muted')\n",
    "plt.title('Leave Status')\n",
    "plt.xlabel('Leave Status (Yes/No)')\n",
    "plt.ylabel('Count')\n",
    "plt.show()"
   ]
  },
  {
   "cell_type": "code",
   "execution_count": 29,
   "id": "5189954c-ea43-4967-939f-ec4e260cbe00",
   "metadata": {},
   "outputs": [
    {
     "data": {
      "image/png": "[encoded data removed]",
      "text/plain": [
       "<Figure size 800x400 with 2 Axes>"
      ]
     },
     "metadata": {},
     "output_type": "display_data"
    }
   ],
   "source": [
    "#Age Distribution by gender\n",
    "g = sns.FacetGrid(x, col='Gender', height=4)\n",
    "g.map(sns.histplot, 'Age', kde=True, color='skyblue',bins=10)\n",
    "plt.show()"
   ]
  },
  {
   "cell_type": "code",
   "execution_count": 30,
   "id": "38bc0f64-ad29-4c14-bcc3-2b2fbbe7ed2e",
   "metadata": {},
   "outputs": [],
   "source": [
    "   # Upload the manipulated data and script to the cloud storage of GCP"
   ]
  },
  {
   "cell_type": "code",
   "execution_count": 31,
   "id": "205701ab-3762-48ef-b85e-79933096e0fa",
   "metadata": {},
   "outputs": [
    {
     "name": "stdout",
     "output_type": "stream",
     "text": [
      "Requirement already satisfied: google-cloud in c:\\users\\admin\\anaconda3\\lib\\site-packages (0.34.0)\n"
     ]
    }
   ],
   "source": [
    "!pip install google-cloud"
   ]
  },
  {
   "cell_type": "code",
   "execution_count": 32,
   "id": "e544c88f-1099-4a3d-92fe-498e9dfd6d27",
   "metadata": {},
   "outputs": [],
   "source": [
    "from google.cloud import storage\n",
    "from google.oauth2 import service_account\n"
   ]
  },
  {
   "cell_type": "code",
   "execution_count": 33,
   "id": "5b1775a8-29ce-4c5d-b4f0-bd6d22ca23a8",
   "metadata": {},
   "outputs": [],
   "source": [
    "#Set google cloud project id and service account key file path\n",
    "project_id='banded-badge-441114-v'\n",
    "service_account_key_path=r'C:\\Users\\Admin\\Desktop\\banded-badge-441114-v1-1ab76a2cafab.json'  "
   ]
  },
  {
   "cell_type": "code",
   "execution_count": 34,
   "id": "77234c08-4576-4b47-9d81-cfdf167d932a",
   "metadata": {},
   "outputs": [],
   "source": [
    "# Specify your bucket name and the file path\n",
    "bucket_name = 'bucket_s123'\n",
    "local_file_path = r'emp_1.csv'\n",
    "destination_blob_name = 'aj.csv'"
   ]
  },
  {
   "cell_type": "code",
   "execution_count": 35,
   "id": "e0387af0-6a62-4f13-b7c1-f982284b26e2",
   "metadata": {},
   "outputs": [],
   "source": [
    "# Initialize the Google Cloud Storage client with the service account credentials\n",
    "credentials = service_account.Credentials.from_service_account_file(service_account_key_path)\n",
    "client = storage.Client(project=project_id, credentials=credentials)"
   ]
  },
  {
   "cell_type": "code",
   "execution_count": 36,
   "id": "c65e2b8a-a91c-46b1-904b-b4d4aa4e8fba",
   "metadata": {},
   "outputs": [],
   "source": [
    "# Get the bucket object\n",
    "bucket = client.get_bucket(bucket_name)\n",
    "\n",
    "# Create a blob object from the destination path in the bucket\n",
    "blob = bucket.blob(destination_blob_name)"
   ]
  },
  {
   "cell_type": "code",
   "execution_count": 37,
   "id": "db3ee5c1-c66a-4616-8f02-dfd2e5635476",
   "metadata": {},
   "outputs": [
    {
     "name": "stdout",
     "output_type": "stream",
     "text": [
      "File emp_1.csv uploaded to aj.csv.\n"
     ]
    }
   ],
   "source": [
    "# Upload the file  to the GCS bucket\n",
    "try:\n",
    "    blob.upload_from_filename(local_file_path)\n",
    "    print(f\"File {local_file_path} uploaded to {destination_blob_name}.\")\n",
    "except Exception as e:\n",
    "    print(f\"Error uploading file: {e}\")"
   ]
  },
  {
   "cell_type": "code",
   "execution_count": null,
   "id": "1eb9349f-e153-4e35-a294-6ca600ec2009",
   "metadata": {},
   "outputs": [],
   "source": []
  }
 ],
 "metadata": {
  "kernelspec": {
   "display_name": "Python 3 (ipykernel)",
   "language": "python",
   "name": "python3"
  },
  "language_info": {
   "codemirror_mode": {
    "name": "ipython",
    "version": 3
   },
   "file_extension": ".py",
   "mimetype": "text/x-python",
   "name": "python",
   "nbconvert_exporter": "python",
   "pygments_lexer": "ipython3",
   "version": "3.12.4"
  }
 },
 "nbformat": 4,
 "nbformat_minor": 5
}
